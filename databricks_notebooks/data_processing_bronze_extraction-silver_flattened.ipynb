{
 "cells": [
  {
   "cell_type": "markdown",
   "metadata": {
    "application/vnd.databricks.v1+cell": {
     "cellMetadata": {},
     "inputWidgets": {},
     "nuid": "9421a90d-fdc8-419d-8d5b-6541b662d9e8",
     "showTitle": false,
     "tableResultSettingsMap": {},
     "title": ""
    }
   },
   "source": [
    "## Helpers --> Bronze Tables: \n",
    "\n",
    "Airbyte tables cointaining JSON string in _airbyte_data and Airbyte metadata with extracted key to remove duplicates."
   ]
  },
  {
   "cell_type": "code",
   "execution_count": 0,
   "metadata": {
    "application/vnd.databricks.v1+cell": {
     "cellMetadata": {
      "byteLimit": 2048000,
      "rowLimit": 10000
     },
     "inputWidgets": {},
     "nuid": "75f3f82b-e21b-4eab-bdb9-4bfb6a201100",
     "showTitle": false,
     "tableResultSettingsMap": {},
     "title": ""
    }
   },
   "outputs": [],
   "source": [
    "-- ORDERS: \n",
    "CREATE OR REPLACE TEMP VIEW _stg_orders_latest AS\n",
    "WITH j AS (\n",
    "  SELECT\n",
    "    _airbyte_raw_id,\n",
    "    _airbyte_extracted_at,\n",
    "    _airbyte_loaded_at,\n",
    "    _airbyte_generation_id,\n",
    "    _airbyte_data,\n",
    "    -- Extract the natural key from JSON for de-dupe\n",
    "    CAST(get_json_object(_airbyte_data, '$.id') AS BIGINT) AS order_id\n",
    "  FROM workspace.airbyte_internal.default_raw__stream_orders\n",
    "),\n",
    "r AS (\n",
    "  SELECT *,\n",
    "         ROW_NUMBER() OVER (PARTITION BY order_id ORDER BY _airbyte_extracted_at DESC) AS rn\n",
    "  FROM j\n",
    ")\n",
    "SELECT * FROM r WHERE rn = 1;\n"
   ]
  },
  {
   "cell_type": "code",
   "execution_count": 0,
   "metadata": {
    "application/vnd.databricks.v1+cell": {
     "cellMetadata": {
      "byteLimit": 2048000,
      "rowLimit": 10000
     },
     "inputWidgets": {},
     "nuid": "531df136-079b-470d-b90e-2c661362f1a6",
     "showTitle": false,
     "tableResultSettingsMap": {},
     "title": ""
    }
   },
   "outputs": [],
   "source": [
    "-- PRODUCTS:\n",
    "CREATE OR REPLACE TEMP VIEW _stg_products_latest AS\n",
    "WITH j AS (\n",
    "  SELECT\n",
    "    _airbyte_raw_id,\n",
    "    _airbyte_extracted_at,\n",
    "    _airbyte_loaded_at,\n",
    "    _airbyte_generation_id,\n",
    "    _airbyte_data,\n",
    "    TRY_CAST(get_json_object(_airbyte_data, '$.id') AS BIGINT) AS product_id\n",
    "  FROM workspace.airbyte_internal.default_raw__stream_products\n",
    ")\n",
    "SELECT *\n",
    "FROM j\n",
    "QUALIFY ROW_NUMBER() OVER (PARTITION BY product_id ORDER BY _airbyte_extracted_at DESC) = 1;\n"
   ]
  },
  {
   "cell_type": "code",
   "execution_count": 0,
   "metadata": {
    "application/vnd.databricks.v1+cell": {
     "cellMetadata": {
      "byteLimit": 2048000,
      "rowLimit": 10000
     },
     "inputWidgets": {},
     "nuid": "9dcfcc83-632f-4850-a3ba-da3f5248aa6f",
     "showTitle": false,
     "tableResultSettingsMap": {},
     "title": ""
    }
   },
   "outputs": [],
   "source": [
    "-- USERS:\n",
    "CREATE OR REPLACE TEMP VIEW _stg_users_latest AS\n",
    "WITH j AS (\n",
    "  SELECT\n",
    "    _airbyte_raw_id,\n",
    "    _airbyte_extracted_at,\n",
    "    _airbyte_loaded_at,\n",
    "    _airbyte_generation_id,\n",
    "    _airbyte_data,\n",
    "    TRY_CAST(get_json_object(_airbyte_data, '$.id') AS BIGINT) AS user_id\n",
    "  FROM workspace.airbyte_internal.default_raw__stream_users\n",
    ")\n",
    "SELECT *\n",
    "FROM j\n",
    "QUALIFY ROW_NUMBER() OVER (PARTITION BY user_id ORDER BY _airbyte_extracted_at DESC) = 1;\n"
   ]
  },
  {
   "cell_type": "code",
   "execution_count": 0,
   "metadata": {
    "application/vnd.databricks.v1+cell": {
     "cellMetadata": {
      "byteLimit": 2048000,
      "rowLimit": 10000
     },
     "inputWidgets": {},
     "nuid": "2bddb3bc-063f-46df-88bf-a21fdd9c79b7",
     "showTitle": false,
     "tableResultSettingsMap": {},
     "title": ""
    }
   },
   "outputs": [],
   "source": [
    "-- REVIEWS:\n",
    "CREATE OR REPLACE TEMP VIEW _stg_reviews_latest AS\n",
    "WITH j AS (\n",
    "  SELECT\n",
    "    _airbyte_raw_id,\n",
    "    _airbyte_extracted_at,\n",
    "    _airbyte_loaded_at,\n",
    "    _airbyte_generation_id,\n",
    "    _airbyte_data,\n",
    "    TRY_CAST(get_json_object(_airbyte_data, '$.id') AS BIGINT) AS review_id\n",
    "  FROM workspace.airbyte_internal.default_raw__stream_reviews\n",
    ")\n",
    "SELECT *\n",
    "FROM j\n",
    "QUALIFY ROW_NUMBER() OVER (PARTITION BY review_id ORDER BY _airbyte_extracted_at DESC) = 1;\n"
   ]
  },
  {
   "cell_type": "markdown",
   "metadata": {
    "application/vnd.databricks.v1+cell": {
     "cellMetadata": {},
     "inputWidgets": {},
     "nuid": "1b31fc37-8657-4601-a30a-f433672f760c",
     "showTitle": false,
     "tableResultSettingsMap": {},
     "title": ""
    }
   },
   "source": [
    "## Silver Tables\n",
    "\n",
    "Json array is flattened and duplicated records are removed"
   ]
  },
  {
   "cell_type": "code",
   "execution_count": 0,
   "metadata": {
    "application/vnd.databricks.v1+cell": {
     "cellMetadata": {
      "byteLimit": 2048000,
      "rowLimit": 10000
     },
     "inputWidgets": {},
     "nuid": "e1967f6c-42b3-438d-a07d-bbeb64a147b7",
     "showTitle": false,
     "tableResultSettingsMap": {},
     "title": ""
    }
   },
   "outputs": [
    {
     "output_type": "display_data",
     "data": {
      "text/html": [
       "<style scoped>\n",
       "  .table-result-container {\n",
       "    max-height: 300px;\n",
       "    overflow: auto;\n",
       "  }\n",
       "  table, th, td {\n",
       "    border: 1px solid black;\n",
       "    border-collapse: collapse;\n",
       "  }\n",
       "  th, td {\n",
       "    padding: 5px;\n",
       "  }\n",
       "  th {\n",
       "    text-align: left;\n",
       "  }\n",
       "</style><div class='table-result-container'><table class='table-result'><thead style='background-color: white'><tr><th>num_affected_rows</th><th>num_updated_rows</th><th>num_deleted_rows</th><th>num_inserted_rows</th></tr></thead><tbody><tr><td>20</td><td>0</td><td>0</td><td>20</td></tr></tbody></table></div>"
      ]
     },
     "metadata": {
      "application/vnd.databricks.v1+output": {
       "addedWidgets": {},
       "aggData": [],
       "aggError": "",
       "aggOverflow": false,
       "aggSchema": [],
       "aggSeriesLimitReached": false,
       "aggType": "",
       "arguments": {},
       "columnCustomDisplayInfos": {},
       "data": [
        [
         20,
         0,
         0,
         20
        ]
       ],
       "datasetInfos": [
        {
         "name": "_sqldf",
         "schema": {
          "fields": [
           {
            "metadata": {},
            "name": "num_affected_rows",
            "nullable": true,
            "type": "long"
           },
           {
            "metadata": {},
            "name": "num_updated_rows",
            "nullable": true,
            "type": "long"
           },
           {
            "metadata": {},
            "name": "num_deleted_rows",
            "nullable": true,
            "type": "long"
           },
           {
            "metadata": {},
            "name": "num_inserted_rows",
            "nullable": true,
            "type": "long"
           }
          ],
          "type": "struct"
         },
         "tableIdentifier": null,
         "typeStr": "pyspark.sql.connect.dataframe.DataFrame"
        }
       ],
       "dbfsResultPath": null,
       "isJsonSchema": true,
       "metadata": {
        "createTempViewForImplicitDf": true,
        "dataframeName": "_sqldf",
        "executionCount": 14
       },
       "overflow": false,
       "plotOptions": {
        "customPlotOptions": {},
        "displayType": "table",
        "pivotAggregation": null,
        "pivotColumns": null,
        "xColumns": null,
        "yColumns": null
       },
       "removedWidgets": [],
       "schema": [
        {
         "metadata": "{}",
         "name": "num_affected_rows",
         "type": "\"long\""
        },
        {
         "metadata": "{}",
         "name": "num_updated_rows",
         "type": "\"long\""
        },
        {
         "metadata": "{}",
         "name": "num_deleted_rows",
         "type": "\"long\""
        },
        {
         "metadata": "{}",
         "name": "num_inserted_rows",
         "type": "\"long\""
        }
       ],
       "type": "table"
      }
     },
     "output_type": "display_data"
    }
   ],
   "source": [
    "-- Table ORDERS\n",
    "CREATE TABLE IF NOT EXISTS workspace.default.orders_silver (\n",
    "  order_id         BIGINT,\n",
    "  user_id          BIGINT,\n",
    "  total_amount     DECIMAL(18,2),\n",
    "  status           STRING,\n",
    "  order_ts         TIMESTAMP,\n",
    "  delivery_ts      TIMESTAMP,\n",
    "  products_json    STRING,        -- raw array string for later explode\n",
    "  _airbyte_extracted_at TIMESTAMP,\n",
    "  _airbyte_loaded_at    TIMESTAMP\n",
    ") USING DELTA;\n",
    "\n",
    "-- Incremental upsert from raw\n",
    "MERGE INTO workspace.default.orders_silver AS t\n",
    "USING (\n",
    "  SELECT\n",
    "    CAST(get_json_object(_airbyte_data, '$.id')          AS BIGINT)          AS order_id,\n",
    "    CAST(get_json_object(_airbyte_data, '$.userId')      AS BIGINT)          AS user_id,\n",
    "    CAST(get_json_object(_airbyte_data, '$.totalAmount') AS DECIMAL(18,2))   AS total_amount,\n",
    "    get_json_object(_airbyte_data, '$.status')                               AS status,\n",
    "    try_cast(get_json_object(_airbyte_data, '$.orderDate') AS TIMESTAMP)     AS order_ts,\n",
    "    try_cast(get_json_object(_airbyte_data, '$.deliveryDate') AS TIMESTAMP)  AS delivery_ts,\n",
    "    get_json_object(_airbyte_data, '$.products')                             AS products_json,\n",
    "    _airbyte_extracted_at,\n",
    "    _airbyte_loaded_at\n",
    "  FROM _stg_orders_latest\n",
    "  WHERE _airbyte_extracted_at >\n",
    "        COALESCE((SELECT MAX(_airbyte_extracted_at) FROM workspace.default.orders_silver),\n",
    "                 TIMESTAMP('1900-01-01'))\n",
    ") AS s\n",
    "ON  t.order_id = s.order_id\n",
    "WHEN MATCHED THEN UPDATE SET *\n",
    "WHEN NOT MATCHED THEN INSERT *;"
   ]
  },
  {
   "cell_type": "code",
   "execution_count": 0,
   "metadata": {
    "application/vnd.databricks.v1+cell": {
     "cellMetadata": {
      "byteLimit": 2048000,
      "rowLimit": 10000
     },
     "inputWidgets": {},
     "nuid": "3c506570-e061-4803-a6d1-fbe105e8394a",
     "showTitle": false,
     "tableResultSettingsMap": {},
     "title": ""
    }
   },
   "outputs": [
    {
     "output_type": "display_data",
     "data": {
      "text/html": [
       "<style scoped>\n",
       "  .table-result-container {\n",
       "    max-height: 300px;\n",
       "    overflow: auto;\n",
       "  }\n",
       "  table, th, td {\n",
       "    border: 1px solid black;\n",
       "    border-collapse: collapse;\n",
       "  }\n",
       "  th, td {\n",
       "    padding: 5px;\n",
       "  }\n",
       "  th {\n",
       "    text-align: left;\n",
       "  }\n",
       "</style><div class='table-result-container'><table class='table-result'><thead style='background-color: white'><tr><th>num_affected_rows</th><th>num_updated_rows</th><th>num_deleted_rows</th><th>num_inserted_rows</th></tr></thead><tbody><tr><td>40</td><td>0</td><td>0</td><td>40</td></tr></tbody></table></div>"
      ]
     },
     "metadata": {
      "application/vnd.databricks.v1+output": {
       "addedWidgets": {},
       "aggData": [],
       "aggError": "",
       "aggOverflow": false,
       "aggSchema": [],
       "aggSeriesLimitReached": false,
       "aggType": "",
       "arguments": {},
       "columnCustomDisplayInfos": {},
       "data": [
        [
         40,
         0,
         0,
         40
        ]
       ],
       "datasetInfos": [
        {
         "name": "_sqldf",
         "schema": {
          "fields": [
           {
            "metadata": {},
            "name": "num_affected_rows",
            "nullable": true,
            "type": "long"
           },
           {
            "metadata": {},
            "name": "num_updated_rows",
            "nullable": true,
            "type": "long"
           },
           {
            "metadata": {},
            "name": "num_deleted_rows",
            "nullable": true,
            "type": "long"
           },
           {
            "metadata": {},
            "name": "num_inserted_rows",
            "nullable": true,
            "type": "long"
           }
          ],
          "type": "struct"
         },
         "tableIdentifier": null,
         "typeStr": "pyspark.sql.connect.dataframe.DataFrame"
        }
       ],
       "dbfsResultPath": null,
       "isJsonSchema": true,
       "metadata": {
        "createTempViewForImplicitDf": true,
        "dataframeName": "_sqldf",
        "executionCount": 15
       },
       "overflow": false,
       "plotOptions": {
        "customPlotOptions": {},
        "displayType": "table",
        "pivotAggregation": null,
        "pivotColumns": null,
        "xColumns": null,
        "yColumns": null
       },
       "removedWidgets": [],
       "schema": [
        {
         "metadata": "{}",
         "name": "num_affected_rows",
         "type": "\"long\""
        },
        {
         "metadata": "{}",
         "name": "num_updated_rows",
         "type": "\"long\""
        },
        {
         "metadata": "{}",
         "name": "num_deleted_rows",
         "type": "\"long\""
        },
        {
         "metadata": "{}",
         "name": "num_inserted_rows",
         "type": "\"long\""
        }
       ],
       "type": "table"
      }
     },
     "output_type": "display_data"
    }
   ],
   "source": [
    "-- Table PRODUCTS\n",
    "CREATE TABLE IF NOT EXISTS workspace.default.products_silver (\n",
    "  product_id     BIGINT,\n",
    "  title          STRING,\n",
    "  price          DECIMAL(18,2),\n",
    "  description    STRING,\n",
    "  category       STRING,\n",
    "  brand          STRING,\n",
    "  stock          INT,\n",
    "  image_url      STRING,\n",
    "  specs_color    STRING,\n",
    "  specs_weight   STRING,\n",
    "  specs_storage  STRING,\n",
    "  rating_rate    DOUBLE,\n",
    "  rating_count   INT,\n",
    "  _airbyte_extracted_at TIMESTAMP\n",
    ") USING DELTA;\n",
    "\n",
    "MERGE INTO workspace.default.products_silver t\n",
    "USING (\n",
    "  WITH j AS (\n",
    "    SELECT\n",
    "      CAST(get_json_object(_airbyte_data, '$.id') AS BIGINT)                    AS product_id,\n",
    "      get_json_object(_airbyte_data, '$.title')                                 AS title,\n",
    "      CAST(get_json_object(_airbyte_data, '$.price') AS DECIMAL(18,2))          AS price,\n",
    "      get_json_object(_airbyte_data, '$.description')                           AS description,\n",
    "      get_json_object(_airbyte_data, '$.category')                              AS category,\n",
    "      get_json_object(_airbyte_data, '$.brand')                                 AS brand,\n",
    "      CAST(get_json_object(_airbyte_data, '$.stock') AS INT)                    AS stock,\n",
    "      get_json_object(_airbyte_data, '$.image')                                 AS image_url,\n",
    "      get_json_object(_airbyte_data, '$.[\"specs.color\"]')                       AS specs_color,\n",
    "      get_json_object(_airbyte_data, '$.[\"specs.weight\"]')                      AS specs_weight,\n",
    "      get_json_object(_airbyte_data, '$.[\"specs.storage\"]')                     AS specs_storage,\n",
    "      CAST(get_json_object(_airbyte_data, '$.[\"rating.rate\"]')  AS DOUBLE)      AS rating_rate,\n",
    "      CAST(get_json_object(_airbyte_data, '$.[\"rating.count\"]') AS INT)         AS rating_count,\n",
    "      _airbyte_extracted_at\n",
    "    FROM workspace.airbyte_internal.default_raw__stream_products\n",
    "  )\n",
    "  SELECT *\n",
    "  FROM j\n",
    "  WHERE _airbyte_extracted_at >\n",
    "        COALESCE((SELECT MAX(_airbyte_extracted_at) FROM workspace.default.products_silver),\n",
    "                 TIMESTAMP('1900-01-01'))\n",
    ") s\n",
    "ON t.product_id = s.product_id\n",
    "WHEN MATCHED THEN UPDATE SET *\n",
    "WHEN NOT MATCHED THEN INSERT *;\n"
   ]
  },
  {
   "cell_type": "code",
   "execution_count": 0,
   "metadata": {
    "application/vnd.databricks.v1+cell": {
     "cellMetadata": {
      "byteLimit": 2048000,
      "rowLimit": 10000
     },
     "inputWidgets": {},
     "nuid": "e50694cb-6273-44ff-b621-e1802a9f40aa",
     "showTitle": false,
     "tableResultSettingsMap": {},
     "title": ""
    }
   },
   "outputs": [
    {
     "output_type": "display_data",
     "data": {
      "text/html": [
       "<style scoped>\n",
       "  .table-result-container {\n",
       "    max-height: 300px;\n",
       "    overflow: auto;\n",
       "  }\n",
       "  table, th, td {\n",
       "    border: 1px solid black;\n",
       "    border-collapse: collapse;\n",
       "  }\n",
       "  th, td {\n",
       "    padding: 5px;\n",
       "  }\n",
       "  th {\n",
       "    text-align: left;\n",
       "  }\n",
       "</style><div class='table-result-container'><table class='table-result'><thead style='background-color: white'><tr><th>num_affected_rows</th><th>num_updated_rows</th><th>num_deleted_rows</th><th>num_inserted_rows</th></tr></thead><tbody><tr><td>40</td><td>0</td><td>0</td><td>40</td></tr></tbody></table></div>"
      ]
     },
     "metadata": {
      "application/vnd.databricks.v1+output": {
       "addedWidgets": {},
       "aggData": [],
       "aggError": "",
       "aggOverflow": false,
       "aggSchema": [],
       "aggSeriesLimitReached": false,
       "aggType": "",
       "arguments": {},
       "columnCustomDisplayInfos": {},
       "data": [
        [
         40,
         0,
         0,
         40
        ]
       ],
       "datasetInfos": [
        {
         "name": "_sqldf",
         "schema": {
          "fields": [
           {
            "metadata": {},
            "name": "num_affected_rows",
            "nullable": true,
            "type": "long"
           },
           {
            "metadata": {},
            "name": "num_updated_rows",
            "nullable": true,
            "type": "long"
           },
           {
            "metadata": {},
            "name": "num_deleted_rows",
            "nullable": true,
            "type": "long"
           },
           {
            "metadata": {},
            "name": "num_inserted_rows",
            "nullable": true,
            "type": "long"
           }
          ],
          "type": "struct"
         },
         "tableIdentifier": null,
         "typeStr": "pyspark.sql.connect.dataframe.DataFrame"
        }
       ],
       "dbfsResultPath": null,
       "isJsonSchema": true,
       "metadata": {
        "createTempViewForImplicitDf": true,
        "dataframeName": "_sqldf",
        "executionCount": 16
       },
       "overflow": false,
       "plotOptions": {
        "customPlotOptions": {},
        "displayType": "table",
        "pivotAggregation": null,
        "pivotColumns": null,
        "xColumns": null,
        "yColumns": null
       },
       "removedWidgets": [],
       "schema": [
        {
         "metadata": "{}",
         "name": "num_affected_rows",
         "type": "\"long\""
        },
        {
         "metadata": "{}",
         "name": "num_updated_rows",
         "type": "\"long\""
        },
        {
         "metadata": "{}",
         "name": "num_deleted_rows",
         "type": "\"long\""
        },
        {
         "metadata": "{}",
         "name": "num_inserted_rows",
         "type": "\"long\""
        }
       ],
       "type": "table"
      }
     },
     "output_type": "display_data"
    }
   ],
   "source": [
    "-- Table USERS\n",
    "CREATE TABLE IF NOT EXISTS workspace.default.users_silver (\n",
    "  user_id      BIGINT,\n",
    "  email        STRING,\n",
    "  username     STRING,\n",
    "  first_name   STRING,\n",
    "  last_name    STRING,\n",
    "  street       STRING,\n",
    "  city         STRING,\n",
    "  zipcode      STRING,\n",
    "  country      STRING,\n",
    "  phone        STRING,\n",
    "  orders_json  STRING,       -- keep raw list if you want it\n",
    "  _airbyte_extracted_at TIMESTAMP\n",
    ") USING DELTA;\n",
    "\n",
    "MERGE INTO workspace.default.users_silver t\n",
    "USING (\n",
    "  WITH j AS (\n",
    "    SELECT\n",
    "      CAST(get_json_object(_airbyte_data, '$.id') AS BIGINT)                 AS user_id,\n",
    "      LOWER(TRIM(get_json_object(_airbyte_data, '$.email')))                AS email,\n",
    "      TRIM(get_json_object(_airbyte_data, '$.username'))                    AS username,\n",
    "      TRIM(get_json_object(_airbyte_data, '$.[\"name.firstname\"]'))          AS first_name,\n",
    "      TRIM(get_json_object(_airbyte_data, '$.[\"name.lastname\"]'))           AS last_name,\n",
    "      TRIM(get_json_object(_airbyte_data, '$.[\"address.street\"]'))          AS street,\n",
    "      TRIM(get_json_object(_airbyte_data, '$.[\"address.city\"]'))            AS city,\n",
    "      TRIM(get_json_object(_airbyte_data, '$.[\"address.zipcode\"]'))         AS zipcode,\n",
    "      TRIM(get_json_object(_airbyte_data, '$.[\"address.country\"]'))         AS country,\n",
    "      TRIM(get_json_object(_airbyte_data, '$.phone'))                        AS phone,\n",
    "      get_json_object(_airbyte_data, '$.orders')                             AS orders_json,\n",
    "      _airbyte_extracted_at\n",
    "    FROM workspace.airbyte_internal.default_raw__stream_users\n",
    "  )\n",
    "  SELECT *\n",
    "  FROM j\n",
    "  WHERE _airbyte_extracted_at >\n",
    "        COALESCE((SELECT MAX(_airbyte_extracted_at) FROM workspace.default.users_silver),\n",
    "                 TIMESTAMP('1900-01-01'))\n",
    ") s\n",
    "ON t.user_id = s.user_id\n",
    "WHEN MATCHED THEN UPDATE SET *\n",
    "WHEN NOT MATCHED THEN INSERT *;\n"
   ]
  },
  {
   "cell_type": "code",
   "execution_count": 0,
   "metadata": {
    "application/vnd.databricks.v1+cell": {
     "cellMetadata": {
      "byteLimit": 2048000,
      "rowLimit": 10000
     },
     "inputWidgets": {},
     "nuid": "886b35d3-8f5a-4851-81a1-63538d7937eb",
     "showTitle": false,
     "tableResultSettingsMap": {},
     "title": ""
    }
   },
   "outputs": [
    {
     "output_type": "display_data",
     "data": {
      "text/html": [
       "<style scoped>\n",
       "  .table-result-container {\n",
       "    max-height: 300px;\n",
       "    overflow: auto;\n",
       "  }\n",
       "  table, th, td {\n",
       "    border: 1px solid black;\n",
       "    border-collapse: collapse;\n",
       "  }\n",
       "  th, td {\n",
       "    padding: 5px;\n",
       "  }\n",
       "  th {\n",
       "    text-align: left;\n",
       "  }\n",
       "</style><div class='table-result-container'><table class='table-result'><thead style='background-color: white'><tr><th>num_affected_rows</th><th>num_updated_rows</th><th>num_deleted_rows</th><th>num_inserted_rows</th></tr></thead><tbody><tr><td>40</td><td>0</td><td>0</td><td>40</td></tr></tbody></table></div>"
      ]
     },
     "metadata": {
      "application/vnd.databricks.v1+output": {
       "addedWidgets": {},
       "aggData": [],
       "aggError": "",
       "aggOverflow": false,
       "aggSchema": [],
       "aggSeriesLimitReached": false,
       "aggType": "",
       "arguments": {},
       "columnCustomDisplayInfos": {},
       "data": [
        [
         40,
         0,
         0,
         40
        ]
       ],
       "datasetInfos": [
        {
         "name": "_sqldf",
         "schema": {
          "fields": [
           {
            "metadata": {},
            "name": "num_affected_rows",
            "nullable": true,
            "type": "long"
           },
           {
            "metadata": {},
            "name": "num_updated_rows",
            "nullable": true,
            "type": "long"
           },
           {
            "metadata": {},
            "name": "num_deleted_rows",
            "nullable": true,
            "type": "long"
           },
           {
            "metadata": {},
            "name": "num_inserted_rows",
            "nullable": true,
            "type": "long"
           }
          ],
          "type": "struct"
         },
         "tableIdentifier": null,
         "typeStr": "pyspark.sql.connect.dataframe.DataFrame"
        }
       ],
       "dbfsResultPath": null,
       "isJsonSchema": true,
       "metadata": {
        "createTempViewForImplicitDf": true,
        "dataframeName": "_sqldf",
        "executionCount": 17
       },
       "overflow": false,
       "plotOptions": {
        "customPlotOptions": {},
        "displayType": "table",
        "pivotAggregation": null,
        "pivotColumns": null,
        "xColumns": null,
        "yColumns": null
       },
       "removedWidgets": [],
       "schema": [
        {
         "metadata": "{}",
         "name": "num_affected_rows",
         "type": "\"long\""
        },
        {
         "metadata": "{}",
         "name": "num_updated_rows",
         "type": "\"long\""
        },
        {
         "metadata": "{}",
         "name": "num_deleted_rows",
         "type": "\"long\""
        },
        {
         "metadata": "{}",
         "name": "num_inserted_rows",
         "type": "\"long\""
        }
       ],
       "type": "table"
      }
     },
     "output_type": "display_data"
    }
   ],
   "source": [
    "-- Table Reviews\n",
    "CREATE TABLE IF NOT EXISTS workspace.default.reviews_silver (\n",
    "  review_id   BIGINT,\n",
    "  product_id  BIGINT,\n",
    "  user_id     BIGINT,\n",
    "  rating      INT,\n",
    "  title       STRING,\n",
    "  content     STRING,\n",
    "  review_ts   TIMESTAMP,\n",
    "  _airbyte_extracted_at TIMESTAMP\n",
    ") USING DELTA;\n",
    "\n",
    "MERGE INTO workspace.default.reviews_silver t\n",
    "USING (\n",
    "  SELECT\n",
    "    CAST(get_json_object(_airbyte_data, '$.id')         AS BIGINT)  AS review_id,\n",
    "    CAST(get_json_object(_airbyte_data, '$.productId')  AS BIGINT)  AS product_id,\n",
    "    CAST(get_json_object(_airbyte_data, '$.userId')     AS BIGINT)  AS user_id,\n",
    "    CAST(get_json_object(_airbyte_data, '$.rating')     AS INT)     AS rating,\n",
    "    get_json_object(_airbyte_data, '$.title')                        AS title,\n",
    "    get_json_object(_airbyte_data, '$.content')                      AS content,\n",
    "    TO_TIMESTAMP(get_json_object(_airbyte_data, '$.date'))           AS review_ts,\n",
    "    _airbyte_extracted_at\n",
    "  FROM workspace.airbyte_internal.default_raw__stream_reviews\n",
    "  WHERE _airbyte_extracted_at >\n",
    "        COALESCE((SELECT MAX(_airbyte_extracted_at) FROM workspace.default.reviews_silver),\n",
    "                 TIMESTAMP('1900-01-01'))\n",
    ") s\n",
    "ON t.review_id = s.review_id\n",
    "WHEN MATCHED THEN UPDATE SET *\n",
    "WHEN NOT MATCHED THEN INSERT *;\n"
   ]
  }
 ],
 "metadata": {
  "application/vnd.databricks.v1+notebook": {
   "computePreferences": null,
   "dashboards": [],
   "environmentMetadata": {
    "base_environment": "",
    "environment_version": "3"
   },
   "inputWidgetPreferences": null,
   "language": "sql",
   "notebookMetadata": {
    "pythonIndentUnit": 4
   },
   "notebookName": "data_processing:bronze_extraction-silver_flattened",
   "widgets": {}
  },
  "language_info": {
   "name": "sql"
  }
 },
 "nbformat": 4,
 "nbformat_minor": 0
}