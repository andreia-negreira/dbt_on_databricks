{
 "cells": [
  {
   "cell_type": "code",
   "execution_count": 0,
   "metadata": {
    "application/vnd.databricks.v1+cell": {
     "cellMetadata": {
      "byteLimit": 2048000,
      "rowLimit": 10000
     },
     "inputWidgets": {},
     "nuid": "53b60b0e-a883-43b0-a6d5-d6fdc177bce0",
     "showTitle": false,
     "tableResultSettingsMap": {},
     "title": ""
    }
   },
   "outputs": [
    {
     "output_type": "stream",
     "name": "stdout",
     "output_type": "stream",
     "text": [
      "Requirement already satisfied: dlt[databricks] in /local_disk0/.ephemeral_nfs/envs/pythonEnv-cf3ba049-00de-4b08-bdb8-7bdafaadc9d9/lib/python3.12/site-packages (1.15.0)\nRequirement already satisfied: click>=7.1 in /databricks/python3/lib/python3.12/site-packages (from dlt[databricks]) (8.1.7)\nRequirement already satisfied: fsspec>=2022.4.0 in /local_disk0/.ephemeral_nfs/envs/pythonEnv-cf3ba049-00de-4b08-bdb8-7bdafaadc9d9/lib/python3.12/site-packages (from dlt[databricks]) (2025.9.0)\nRequirement already satisfied: gitpython>=3.1.29 in /databricks/python3/lib/python3.12/site-packages (from dlt[databricks]) (3.1.37)\nRequirement already satisfied: giturlparse>=0.10.0 in /local_disk0/.ephemeral_nfs/envs/pythonEnv-cf3ba049-00de-4b08-bdb8-7bdafaadc9d9/lib/python3.12/site-packages (from dlt[databricks]) (0.12.0)\nRequirement already satisfied: hexbytes>=0.2.2 in /local_disk0/.ephemeral_nfs/envs/pythonEnv-cf3ba049-00de-4b08-bdb8-7bdafaadc9d9/lib/python3.12/site-packages (from dlt[databricks]) (1.3.1)\nRequirement already satisfied: humanize>=4.4.0 in /local_disk0/.ephemeral_nfs/envs/pythonEnv-cf3ba049-00de-4b08-bdb8-7bdafaadc9d9/lib/python3.12/site-packages (from dlt[databricks]) (4.13.0)\nRequirement already satisfied: jsonpath-ng>=1.5.3 in /local_disk0/.ephemeral_nfs/envs/pythonEnv-cf3ba049-00de-4b08-bdb8-7bdafaadc9d9/lib/python3.12/site-packages (from dlt[databricks]) (1.7.0)\nRequirement already satisfied: orjson!=3.10.1,!=3.9.11,!=3.9.12,!=3.9.13,!=3.9.14,<4,>=3.6.7 in /local_disk0/.ephemeral_nfs/envs/pythonEnv-cf3ba049-00de-4b08-bdb8-7bdafaadc9d9/lib/python3.12/site-packages (from dlt[databricks]) (3.11.3)\nRequirement already satisfied: packaging>=21.1 in /databricks/python3/lib/python3.12/site-packages (from dlt[databricks]) (24.1)\nRequirement already satisfied: pathvalidate>=2.5.2 in /local_disk0/.ephemeral_nfs/envs/pythonEnv-cf3ba049-00de-4b08-bdb8-7bdafaadc9d9/lib/python3.12/site-packages (from dlt[databricks]) (3.3.1)\nRequirement already satisfied: pendulum>=2.1.2 in /local_disk0/.ephemeral_nfs/envs/pythonEnv-cf3ba049-00de-4b08-bdb8-7bdafaadc9d9/lib/python3.12/site-packages (from dlt[databricks]) (3.1.0)\nRequirement already satisfied: pluggy>=1.3.0 in /databricks/python3/lib/python3.12/site-packages (from dlt[databricks]) (1.5.0)\nRequirement already satisfied: pytz>=2022.6 in /databricks/python3/lib/python3.12/site-packages (from dlt[databricks]) (2024.1)\nRequirement already satisfied: pyyaml>=5.4.1 in /databricks/python3/lib/python3.12/site-packages (from dlt[databricks]) (6.0.1)\nRequirement already satisfied: requests>=2.26.0 in /databricks/python3/lib/python3.12/site-packages (from dlt[databricks]) (2.32.2)\nRequirement already satisfied: requirements-parser>=0.5.0 in /local_disk0/.ephemeral_nfs/envs/pythonEnv-cf3ba049-00de-4b08-bdb8-7bdafaadc9d9/lib/python3.12/site-packages (from dlt[databricks]) (0.13.0)\nRequirement already satisfied: rich-argparse>=1.6.0 in /local_disk0/.ephemeral_nfs/envs/pythonEnv-cf3ba049-00de-4b08-bdb8-7bdafaadc9d9/lib/python3.12/site-packages (from dlt[databricks]) (1.7.1)\nRequirement already satisfied: semver>=3.0.0 in /local_disk0/.ephemeral_nfs/envs/pythonEnv-cf3ba049-00de-4b08-bdb8-7bdafaadc9d9/lib/python3.12/site-packages (from dlt[databricks]) (3.0.4)\nRequirement already satisfied: setuptools>=65.6.0 in /usr/local/lib/python3.12/dist-packages (from dlt[databricks]) (75.8.0)\nRequirement already satisfied: simplejson>=3.17.5 in /local_disk0/.ephemeral_nfs/envs/pythonEnv-cf3ba049-00de-4b08-bdb8-7bdafaadc9d9/lib/python3.12/site-packages (from dlt[databricks]) (3.20.1)\nRequirement already satisfied: sqlglot>=25.4.0 in /local_disk0/.ephemeral_nfs/envs/pythonEnv-cf3ba049-00de-4b08-bdb8-7bdafaadc9d9/lib/python3.12/site-packages (from dlt[databricks]) (27.12.0)\nRequirement already satisfied: tenacity>=8.0.2 in /databricks/python3/lib/python3.12/site-packages (from dlt[databricks]) (8.2.2)\nRequirement already satisfied: tomlkit>=0.11.3 in /local_disk0/.ephemeral_nfs/envs/pythonEnv-cf3ba049-00de-4b08-bdb8-7bdafaadc9d9/lib/python3.12/site-packages (from dlt[databricks]) (0.13.3)\nRequirement already satisfied: typing-extensions>=4.8.0 in /databricks/python3/lib/python3.12/site-packages (from dlt[databricks]) (4.11.0)\nRequirement already satisfied: tzdata>=2022.1 in /databricks/python3/lib/python3.12/site-packages (from dlt[databricks]) (2024.1)\nRequirement already satisfied: databricks-sdk>=0.38.0 in /databricks/python3/lib/python3.12/site-packages (from dlt[databricks]) (0.49.0)\nCollecting databricks-sql-connector<4,>=2.9.3 (from dlt[databricks])\n  Downloading databricks_sql_connector-3.7.4-py3-none-any.whl.metadata (4.3 kB)\nRequirement already satisfied: google-auth~=2.0 in /databricks/python3/lib/python3.12/site-packages (from databricks-sdk>=0.38.0->dlt[databricks]) (2.38.0)\nCollecting lz4<5.0.0,>=4.0.2 (from databricks-sql-connector<4,>=2.9.3->dlt[databricks])\n  Downloading lz4-4.4.4-cp312-cp312-manylinux_2_17_x86_64.manylinux2014_x86_64.whl.metadata (3.8 kB)\nRequirement already satisfied: numpy>=1.23.4 in /databricks/python3/lib/python3.12/site-packages (from databricks-sql-connector<4,>=2.9.3->dlt[databricks]) (1.26.4)\nRequirement already satisfied: oauthlib<4.0.0,>=3.1.0 in /usr/lib/python3/dist-packages (from databricks-sql-connector<4,>=2.9.3->dlt[databricks]) (3.2.2)\nCollecting openpyxl<4.0.0,>=3.0.10 (from databricks-sql-connector<4,>=2.9.3->dlt[databricks])\n  Downloading openpyxl-3.1.5-py2.py3-none-any.whl.metadata (2.5 kB)\nRequirement already satisfied: pandas<2.3.0,>=1.2.5 in /databricks/python3/lib/python3.12/site-packages (from databricks-sql-connector<4,>=2.9.3->dlt[databricks]) (1.5.3)\nRequirement already satisfied: pyarrow>=14.0.1 in /databricks/python3/lib/python3.12/site-packages (from databricks-sql-connector<4,>=2.9.3->dlt[databricks]) (15.0.2)\nCollecting thrift<0.21.0,>=0.16.0 (from databricks-sql-connector<4,>=2.9.3->dlt[databricks])\n  Downloading thrift-0.20.0.tar.gz (62 kB)\n  Preparing metadata (setup.py): started\n  Preparing metadata (setup.py): finished with status 'done'\nRequirement already satisfied: urllib3>=1.26 in /databricks/python3/lib/python3.12/site-packages (from databricks-sql-connector<4,>=2.9.3->dlt[databricks]) (2.2.2)\nRequirement already satisfied: gitdb<5,>=4.0.1 in /databricks/python3/lib/python3.12/site-packages (from gitpython>=3.1.29->dlt[databricks]) (4.0.11)\nRequirement already satisfied: ply in /local_disk0/.ephemeral_nfs/envs/pythonEnv-cf3ba049-00de-4b08-bdb8-7bdafaadc9d9/lib/python3.12/site-packages (from jsonpath-ng>=1.5.3->dlt[databricks]) (3.11)\nRequirement already satisfied: python-dateutil>=2.6 in /databricks/python3/lib/python3.12/site-packages (from pendulum>=2.1.2->dlt[databricks]) (2.9.0.post0)\nRequirement already satisfied: charset-normalizer<4,>=2 in /databricks/python3/lib/python3.12/site-packages (from requests>=2.26.0->dlt[databricks]) (2.0.4)\nRequirement already satisfied: idna<4,>=2.5 in /databricks/python3/lib/python3.12/site-packages (from requests>=2.26.0->dlt[databricks]) (3.7)\nRequirement already satisfied: certifi>=2017.4.17 in /databricks/python3/lib/python3.12/site-packages (from requests>=2.26.0->dlt[databricks]) (2024.6.2)\nRequirement already satisfied: rich>=11.0.0 in /local_disk0/.ephemeral_nfs/envs/pythonEnv-cf3ba049-00de-4b08-bdb8-7bdafaadc9d9/lib/python3.12/site-packages (from rich-argparse>=1.6.0->dlt[databricks]) (14.1.0)\nRequirement already satisfied: smmap<6,>=3.0.1 in /databricks/python3/lib/python3.12/site-packages (from gitdb<5,>=4.0.1->gitpython>=3.1.29->dlt[databricks]) (5.0.0)\nRequirement already satisfied: cachetools<6.0,>=2.0.0 in /databricks/python3/lib/python3.12/site-packages (from google-auth~=2.0->databricks-sdk>=0.38.0->dlt[databricks]) (5.3.3)\nRequirement already satisfied: pyasn1-modules>=0.2.1 in /databricks/python3/lib/python3.12/site-packages (from google-auth~=2.0->databricks-sdk>=0.38.0->dlt[databricks]) (0.2.8)\nRequirement already satisfied: rsa<5,>=3.1.4 in /databricks/python3/lib/python3.12/site-packages (from google-auth~=2.0->databricks-sdk>=0.38.0->dlt[databricks]) (4.9)\nCollecting et-xmlfile (from openpyxl<4.0.0,>=3.0.10->databricks-sql-connector<4,>=2.9.3->dlt[databricks])\n  Downloading et_xmlfile-2.0.0-py3-none-any.whl.metadata (2.7 kB)\nRequirement already satisfied: six>=1.5 in /usr/lib/python3/dist-packages (from python-dateutil>=2.6->pendulum>=2.1.2->dlt[databricks]) (1.16.0)\nRequirement already satisfied: markdown-it-py>=2.2.0 in /local_disk0/.ephemeral_nfs/envs/pythonEnv-cf3ba049-00de-4b08-bdb8-7bdafaadc9d9/lib/python3.12/site-packages (from rich>=11.0.0->rich-argparse>=1.6.0->dlt[databricks]) (4.0.0)\nRequirement already satisfied: pygments<3.0.0,>=2.13.0 in /databricks/python3/lib/python3.12/site-packages (from rich>=11.0.0->rich-argparse>=1.6.0->dlt[databricks]) (2.15.1)\nRequirement already satisfied: mdurl~=0.1 in /local_disk0/.ephemeral_nfs/envs/pythonEnv-cf3ba049-00de-4b08-bdb8-7bdafaadc9d9/lib/python3.12/site-packages (from markdown-it-py>=2.2.0->rich>=11.0.0->rich-argparse>=1.6.0->dlt[databricks]) (0.1.2)\nRequirement already satisfied: pyasn1<0.5.0,>=0.4.6 in /databricks/python3/lib/python3.12/site-packages (from pyasn1-modules>=0.2.1->google-auth~=2.0->databricks-sdk>=0.38.0->dlt[databricks]) (0.4.8)\nDownloading databricks_sql_connector-3.7.4-py3-none-any.whl (431 kB)\nDownloading lz4-4.4.4-cp312-cp312-manylinux_2_17_x86_64.manylinux2014_x86_64.whl (1.3 MB)\n\u001B[?25l   \u001B[90m━━━━━━━━━━━━━━━━━━━━━━━━━━━━━━━━━━━━━━━━\u001B[0m \u001B[32m0.0/1.3 MB\u001B[0m \u001B[31m?\u001B[0m eta \u001B[36m-:--:--\u001B[0m\r\u001B[2K   \u001B[90m━━━━━━━━━━━━━━━━━━━━━━━━━━━━━━━━━━━━━━━━\u001B[0m \u001B[32m1.3/1.3 MB\u001B[0m \u001B[31m13.7 MB/s\u001B[0m eta \u001B[36m0:00:00\u001B[0m\n\u001B[?25hDownloading openpyxl-3.1.5-py2.py3-none-any.whl (250 kB)\nDownloading et_xmlfile-2.0.0-py3-none-any.whl (18 kB)\nBuilding wheels for collected packages: thrift\n  Building wheel for thrift (setup.py): started\n  Building wheel for thrift (setup.py): finished with status 'done'\n  Created wheel for thrift: filename=thrift-0.20.0-cp312-cp312-linux_x86_64.whl size=412853 sha256=5681b97410937c2ce46ebfc790ea98a1ea8a52c79b59db506853bba66b49d04c\n  Stored in directory: /home/spark-cf3ba049-00de-4b08-bdb8-7b/.cache/pip/wheels/57/4d/9e/539ef8e052f8e2db244ddf8ac1f2e623b4663f2ee233ffafb1\nSuccessfully built thrift\nInstalling collected packages: thrift, lz4, et-xmlfile, openpyxl, databricks-sql-connector\nSuccessfully installed databricks-sql-connector-3.7.4 et-xmlfile-2.0.0 lz4-4.4.4 openpyxl-3.1.5 thrift-0.20.0\n\u001B[43mNote: you may need to restart the kernel using %restart_python or dbutils.library.restartPython() to use updated packages.\u001B[0m\n"
     ]
    }
   ],
   "source": [
    "%pip install \"dlt[databricks]\""
   ]
  },
  {
   "cell_type": "code",
   "execution_count": 0,
   "metadata": {
    "application/vnd.databricks.v1+cell": {
     "cellMetadata": {
      "byteLimit": 2048000,
      "rowLimit": 10000
     },
     "inputWidgets": {},
     "nuid": "3558fb60-fa5b-48b9-8d20-df93846447d2",
     "showTitle": false,
     "tableResultSettingsMap": {},
     "title": ""
    }
   },
   "outputs": [],
   "source": [
    "import sys\n",
    "import types\n",
    "\n",
    "# 1 Drop Databricks' post-import hook\n",
    "sys.meta_path = [h for h in sys.meta_path if 'PostImportHook' not in repr(h)]\n",
    "\n",
    "# 2 Purge half-initialized Delta-Live-Tables modules\n",
    "for name, module in list(sys.modules.items()):\n",
    "    if not isinstance(module, types.ModuleType):\n",
    "        continue\n",
    "    if (getattr(module, '__file__', '') or '').startswith('/databricks/spark/python/dlt'): del sys.modules[name]"
   ]
  },
  {
   "cell_type": "code",
   "execution_count": 0,
   "metadata": {
    "application/vnd.databricks.v1+cell": {
     "cellMetadata": {
      "byteLimit": 2048000,
      "rowLimit": 10000
     },
     "inputWidgets": {},
     "nuid": "7ec29fb2-df73-4168-abad-ce7e7ef06c40",
     "showTitle": false,
     "tableResultSettingsMap": {},
     "title": ""
    }
   },
   "outputs": [
    {
     "output_type": "stream",
     "name": "stderr",
     "output_type": "stream",
     "text": [
      "Unexpected internal error when monkey patching dlt module: cannot import name 'overrides' from partially initialized module 'dlt' (most likely due to a circular import) (/local_disk0/.ephemeral_nfs/envs/pythonEnv-22441f72-858b-4fd4-8cc1-f26574e0c12a/lib/python3.12/site-packages/dlt/__init__.py)\n"
     ]
    },
    {
     "output_type": "display_data",
     "data": {
      "application/vnd.databricks.v1+direct_to_type_checking": {}
     },
     "metadata": {},
     "output_type": "display_data"
    },
    {
     "output_type": "display_data",
     "data": {
      "text/plain": [
       "\u001B[0;31m---------------------------------------------------------------------------\u001B[0m\n",
       "\u001B[0;31mAttributeError\u001B[0m                            Traceback (most recent call last)\n",
       "File \u001B[0;32m<command-6793294230386396>, line 12\u001B[0m\n",
       "\u001B[1;32m      9\u001B[0m     r\u001B[38;5;241m.\u001B[39mraise_for_status()\n",
       "\u001B[1;32m     10\u001B[0m     \u001B[38;5;28;01mreturn\u001B[39;00m r\u001B[38;5;241m.\u001B[39mjson()\n",
       "\u001B[0;32m---> 12\u001B[0m \u001B[38;5;129m@dlt\u001B[39m\u001B[38;5;241m.\u001B[39mtable(\n",
       "\u001B[1;32m     13\u001B[0m   name\u001B[38;5;241m=\u001B[39m\u001B[38;5;124m\"\u001B[39m\u001B[38;5;124mproducts\u001B[39m\u001B[38;5;124m\"\u001B[39m,\n",
       "\u001B[1;32m     14\u001B[0m   comment\u001B[38;5;241m=\u001B[39m\u001B[38;5;124m\"\u001B[39m\u001B[38;5;124mRaw products pulled from Fake E-commerce API\u001B[39m\u001B[38;5;124m\"\u001B[39m,\n",
       "\u001B[1;32m     15\u001B[0m )\n",
       "\u001B[1;32m     16\u001B[0m \u001B[38;5;129m@dlt\u001B[39m\u001B[38;5;241m.\u001B[39mexpect_all_or_drop({\u001B[38;5;124m\"\u001B[39m\u001B[38;5;124mid_not_null\u001B[39m\u001B[38;5;124m\"\u001B[39m: \u001B[38;5;124m\"\u001B[39m\u001B[38;5;124mid IS NOT NULL\u001B[39m\u001B[38;5;124m\"\u001B[39m})\n",
       "\u001B[1;32m     17\u001B[0m \u001B[38;5;28;01mdef\u001B[39;00m \u001B[38;5;21mbronze_products\u001B[39m():\n",
       "\u001B[1;32m     18\u001B[0m     data \u001B[38;5;241m=\u001B[39m fetch(\u001B[38;5;124m\"\u001B[39m\u001B[38;5;124m/api/v1/ecommerce/products\u001B[39m\u001B[38;5;124m\"\u001B[39m)\n",
       "\u001B[1;32m     19\u001B[0m     \u001B[38;5;28;01mreturn\u001B[39;00m spark\u001B[38;5;241m.\u001B[39mcreateDataFrame(data)\n",
       "\n",
       "\u001B[0;31mAttributeError\u001B[0m: module 'dlt' has no attribute 'table'"
      ]
     },
     "metadata": {
      "application/vnd.databricks.v1+output": {
       "addedWidgets": {},
       "arguments": {},
       "datasetInfos": [],
       "jupyterProps": {
        "ename": "AttributeError",
        "evalue": "module 'dlt' has no attribute 'table'"
       },
       "metadata": {
        "errorSummary": "<span class='ansi-red-fg'>AttributeError</span>: module 'dlt' has no attribute 'table'\n[Trace ID: 00-b992beafdff5ed5a0856b416d6a4956c-f4c661742ab0260a-00]"
       },
       "removedWidgets": [],
       "sqlProps": null,
       "stackFrames": [
        "\u001B[0;31m---------------------------------------------------------------------------\u001B[0m",
        "\u001B[0;31mAttributeError\u001B[0m                            Traceback (most recent call last)",
        "File \u001B[0;32m<command-6793294230386396>, line 12\u001B[0m\n\u001B[1;32m      9\u001B[0m     r\u001B[38;5;241m.\u001B[39mraise_for_status()\n\u001B[1;32m     10\u001B[0m     \u001B[38;5;28;01mreturn\u001B[39;00m r\u001B[38;5;241m.\u001B[39mjson()\n\u001B[0;32m---> 12\u001B[0m \u001B[38;5;129m@dlt\u001B[39m\u001B[38;5;241m.\u001B[39mtable(\n\u001B[1;32m     13\u001B[0m   name\u001B[38;5;241m=\u001B[39m\u001B[38;5;124m\"\u001B[39m\u001B[38;5;124mproducts\u001B[39m\u001B[38;5;124m\"\u001B[39m,\n\u001B[1;32m     14\u001B[0m   comment\u001B[38;5;241m=\u001B[39m\u001B[38;5;124m\"\u001B[39m\u001B[38;5;124mRaw products pulled from Fake E-commerce API\u001B[39m\u001B[38;5;124m\"\u001B[39m,\n\u001B[1;32m     15\u001B[0m )\n\u001B[1;32m     16\u001B[0m \u001B[38;5;129m@dlt\u001B[39m\u001B[38;5;241m.\u001B[39mexpect_all_or_drop({\u001B[38;5;124m\"\u001B[39m\u001B[38;5;124mid_not_null\u001B[39m\u001B[38;5;124m\"\u001B[39m: \u001B[38;5;124m\"\u001B[39m\u001B[38;5;124mid IS NOT NULL\u001B[39m\u001B[38;5;124m\"\u001B[39m})\n\u001B[1;32m     17\u001B[0m \u001B[38;5;28;01mdef\u001B[39;00m \u001B[38;5;21mbronze_products\u001B[39m():\n\u001B[1;32m     18\u001B[0m     data \u001B[38;5;241m=\u001B[39m fetch(\u001B[38;5;124m\"\u001B[39m\u001B[38;5;124m/api/v1/ecommerce/products\u001B[39m\u001B[38;5;124m\"\u001B[39m)\n\u001B[1;32m     19\u001B[0m     \u001B[38;5;28;01mreturn\u001B[39;00m spark\u001B[38;5;241m.\u001B[39mcreateDataFrame(data)\n",
        "\u001B[0;31mAttributeError\u001B[0m: module 'dlt' has no attribute 'table'"
       ],
       "type": "baseError"
      }
     },
     "output_type": "display_data"
    }
   ],
   "source": [
    "import dlt\n",
    "from pyspark.sql import functions as F\n",
    "from pyspark.sql.types import *\n",
    "\n",
    "BASE_URL = \"https://fakeapi.net\" \n",
    "\n",
    "def fetch(endpoint: str):\n",
    "    r = requests.get(f\"{BASE_URL}{endpoint}\", timeout=30)\n",
    "    r.raise_for_status()\n",
    "    return r.json()\n",
    "\n",
    "@dlt.table(\n",
    "  name=\"products\",\n",
    "  comment=\"Raw products pulled from Fake E-commerce API\",\n",
    ")\n",
    "@dlt.expect_all_or_drop({\"id_not_null\": \"id IS NOT NULL\"})\n",
    "def bronze_products():\n",
    "    data = fetch(\"/api/v1/ecommerce/products\")\n",
    "    return spark.createDataFrame(data)\n",
    "\n",
    "@dlt.table(\n",
    "  name=\"users\",\n",
    "  comment=\"Raw users\"\n",
    ")\n",
    "def bronze_users():\n",
    "    data = fetch(\"/api/v1/ecommerce/users\")\n",
    "    return spark.createDataFrame(data)\n",
    "\n",
    "@dlt.table(\n",
    "  name=\"orders\",\n",
    "  comment=\"Raw orders\"\n",
    ")\n",
    "def bronze_orders():\n",
    "    data = fetch(\"/api/v1/ecommerce/orders\")\n",
    "    return spark.createDataFrame(data)"
   ]
  }
 ],
 "metadata": {
  "application/vnd.databricks.v1+notebook": {
   "computePreferences": {
    "hardware": {
     "accelerator": null,
     "gpuPoolId": null,
     "memory": null
    }
   },
   "dashboards": [],
   "environmentMetadata": {
    "base_environment": "",
    "environment_version": "3"
   },
   "inputWidgetPreferences": null,
   "language": "python",
   "notebookMetadata": {
    "pythonIndentUnit": 4
   },
   "notebookName": "dlthub_test",
   "widgets": {}
  },
  "language_info": {
   "name": "python"
  }
 },
 "nbformat": 4,
 "nbformat_minor": 0
}